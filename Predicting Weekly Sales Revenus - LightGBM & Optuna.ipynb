{
 "cells": [
  {
   "cell_type": "markdown",
   "id": "3a2cfe34",
   "metadata": {},
   "source": [
    "<div style=\"background-color: LightSalmon; border-style: solid;font-family: Arial;text-align: center\">\n",
    "\n",
    "# Predicting Weekly Online Retail Revenue Originated from France For a UK based Company \n",
    "</div>\n"
   ]
  },
  {
   "cell_type": "markdown",
   "id": "29a480a9",
   "metadata": {},
   "source": [
    "---"
   ]
  },
  {
   "cell_type": "markdown",
   "id": "160f6c39",
   "metadata": {},
   "source": [
    "<div style=\"background-color: Seashell; border-style: solid;font-family: Arial\">\n",
    "    \n",
    "**Objective**\n",
    "------------------\n",
    "I am going to use a weekly reseampled online retail sales data originated in France for a UK based company in order to do time series forecasting; predicting T+1 based on T.\n",
    "\n",
    "*Data Source*\n",
    "-------------------\n",
    "The original source of the data is:\n",
    "\n",
    "[UCI Machine Learning Repository](https://archive.ics.uci.edu/ml/datasets/Online+Retail+II)\n",
    "\n",
    "Dua, D. and Graff, C. (2019). [UCI Machine Learning Repository](http://archive.ics.uci.edu/ml). Irvine, CA: University of California, School of Information and Computer Science.\n",
    "\n",
    "\n",
    "*Modeling*\n",
    "-------------------\n",
    "I will use [LightGBM](https://lightgbm.readthedocs.io/en/v3.3.2/) model which works well with time series data and according to Kaggle time series competition results, it recently outperfoms XGBoost. I will tune the model using [Optuna library](https://optuna.org/) which is an an open source hyperparameter optimization framework to automate hyperparameter search. I will use the [feature engine](https://github.com/feature-engine/feature_engine) to extract some time series features.\n",
    "    \n",
    "</div>"
   ]
  },
  {
   "cell_type": "markdown",
   "id": "56c87fc2",
   "metadata": {},
   "source": [
    "---"
   ]
  },
  {
   "cell_type": "markdown",
   "id": "2016a264",
   "metadata": {},
   "source": [
    "<div style=\"color:black; background-color: LightSalmon; border-style: solid;font-family: Arial;text-align: center\">\n",
    "    \n",
    "# Importing Libraries\n",
    "</div>"
   ]
  },
  {
   "cell_type": "code",
   "execution_count": 114,
   "id": "7c666702",
   "metadata": {},
   "outputs": [],
   "source": [
    "import pandas as pd\n",
    "import numpy as np\n",
    "import matplotlib.pyplot as plt\n",
    "from statsmodels.tsa.stattools import adfuller\n",
    "from statsmodels.graphics.tsaplots import plot_acf\n",
    "from statsmodels.graphics.tsaplots import plot_pacf\n",
    "from feature_engine.creation import CyclicalFeatures\n",
    "import lightgbm as lgb\n",
    "import optuna"
   ]
  },
  {
   "cell_type": "markdown",
   "id": "1b00b593",
   "metadata": {},
   "source": [
    "---"
   ]
  },
  {
   "cell_type": "markdown",
   "id": "475f0557",
   "metadata": {},
   "source": [
    "<div style=\"color:black; background-color: LightSalmon; border-style: solid;font-family: Arial; text-align: center\">\n",
    "    \n",
    "# Importing Dataset\n",
    "</div>"
   ]
  },
  {
   "cell_type": "code",
   "execution_count": 6,
   "id": "56213d52",
   "metadata": {},
   "outputs": [],
   "source": [
    "FILE_NAME = \"../../Datasets/online_retail_dataset.csv\"\n",
    "df = pd.read_csv(\n",
    "    FILE_NAME,\n",
    "    usecols=[\"week\", \"France\"],\n",
    "    parse_dates=[\"week\"],\n",
    "    index_col=[\"week\"],\n",
    ")\n",
    "df.columns = ['sales']"
   ]
  },
  {
   "cell_type": "code",
   "execution_count": 117,
   "id": "f53976d3",
   "metadata": {
    "scrolled": true
   },
   "outputs": [
    {
     "name": "stdout",
     "output_type": "stream",
     "text": [
      "Predicting Weekly Sales where the time period is between\n"
     ]
    },
    {
     "data": {
      "text/plain": [
       "(Timestamp('2011-12-11 00:00:00'), Timestamp('2009-12-20 00:00:00'))"
      ]
     },
     "execution_count": 117,
     "metadata": {},
     "output_type": "execute_result"
    }
   ],
   "source": [
    "print(\"Predicting Weekly Sales where the time period is between\")\n",
    "df.index.max(), df.index.min()"
   ]
  },
  {
   "cell_type": "markdown",
   "id": "923f7428",
   "metadata": {},
   "source": [
    "---"
   ]
  },
  {
   "cell_type": "markdown",
   "id": "cdfe9415",
   "metadata": {},
   "source": [
    "<div style=\"color:black; background-color: LightSalmon; border-style: solid;font-family: Arial; text-align: center\">\n",
    "    \n",
    "# Exploratory Data Analysis (EDA)\n",
    "\n",
    "</div>"
   ]
  },
  {
   "cell_type": "code",
   "execution_count": 50,
   "id": "3d91b2ba",
   "metadata": {},
   "outputs": [
    {
     "data": {
      "text/html": [
       "<div>\n",
       "<style scoped>\n",
       "    .dataframe tbody tr th:only-of-type {\n",
       "        vertical-align: middle;\n",
       "    }\n",
       "\n",
       "    .dataframe tbody tr th {\n",
       "        vertical-align: top;\n",
       "    }\n",
       "\n",
       "    .dataframe thead th {\n",
       "        text-align: right;\n",
       "    }\n",
       "</style>\n",
       "<table border=\"1\" class=\"dataframe\">\n",
       "  <thead>\n",
       "    <tr style=\"text-align: right;\">\n",
       "      <th></th>\n",
       "      <th>sales</th>\n",
       "    </tr>\n",
       "    <tr>\n",
       "      <th>week</th>\n",
       "      <th></th>\n",
       "    </tr>\n",
       "  </thead>\n",
       "  <tbody>\n",
       "    <tr>\n",
       "      <th>2009-12-06</th>\n",
       "      <td>3319.16</td>\n",
       "    </tr>\n",
       "    <tr>\n",
       "      <th>2009-12-13</th>\n",
       "      <td>2088.72</td>\n",
       "    </tr>\n",
       "    <tr>\n",
       "      <th>2009-12-20</th>\n",
       "      <td>975.06</td>\n",
       "    </tr>\n",
       "  </tbody>\n",
       "</table>\n",
       "</div>"
      ],
      "text/plain": [
       "              sales\n",
       "week               \n",
       "2009-12-06  3319.16\n",
       "2009-12-13  2088.72\n",
       "2009-12-20   975.06"
      ]
     },
     "execution_count": 50,
     "metadata": {},
     "output_type": "execute_result"
    }
   ],
   "source": [
    "df.head(3)"
   ]
  },
  {
   "cell_type": "code",
   "execution_count": 26,
   "id": "33f9665b",
   "metadata": {},
   "outputs": [
    {
     "data": {
      "text/plain": [
       "106"
      ]
     },
     "execution_count": 26,
     "metadata": {},
     "output_type": "execute_result"
    }
   ],
   "source": [
    "df.shape[0]"
   ]
  },
  {
   "cell_type": "markdown",
   "id": "1f17f185",
   "metadata": {},
   "source": [
    "106 Weeks of revenue data."
   ]
  },
  {
   "cell_type": "markdown",
   "id": "c4ca9ef6",
   "metadata": {},
   "source": [
    "<div style=\"background-color: NavajoWhite; border-style: solid;font-family: Arial\">\n",
    "    \n",
    "## Plot time series\n",
    "    \n",
    "</div>"
   ]
  },
  {
   "cell_type": "code",
   "execution_count": 20,
   "id": "04e77909",
   "metadata": {},
   "outputs": [
    {
     "data": {
      "image/png": "[encoded data removed]",
      "text/plain": [
       "<Figure size 1080x504 with 1 Axes>"
      ]
     },
     "metadata": {
      "needs_background": "light"
     },
     "output_type": "display_data"
    }
   ],
   "source": [
    "# Plot the time series\n",
    "df.plot(figsize=(15, 7))\n",
    "# Add title\n",
    "plt.title(\"Weekly Sales Revenue from France\")\n",
    "# the y axis label\n",
    "plt.ylabel(\"Sales\")\n",
    "plt.show()"
   ]
  },
  {
   "cell_type": "markdown",
   "id": "6ceabd79",
   "metadata": {},
   "source": [
    "<div style=\"background-color: NavajoWhite; border-style: solid;font-family: Arial\">\n",
    "    \n",
    "## Missing data\n",
    "    \n",
    "</div>"
   ]
  },
  {
   "cell_type": "code",
   "execution_count": 22,
   "id": "f8500d31",
   "metadata": {},
   "outputs": [
    {
     "data": {
      "text/plain": [
       "sales    0\n",
       "dtype: int64"
      ]
     },
     "execution_count": 22,
     "metadata": {},
     "output_type": "execute_result"
    }
   ],
   "source": [
    "df.isnull().sum()"
   ]
  },
  {
   "cell_type": "markdown",
   "id": "6f2d2dc6",
   "metadata": {},
   "source": [
    "No missing data in the dataframe."
   ]
  },
  {
   "cell_type": "markdown",
   "id": "9c484bca",
   "metadata": {},
   "source": [
    "<div style=\"background-color: NavajoWhite; border-style: solid;font-family: Arial\">\n",
    "    \n",
    "## Missing timestamps\n",
    "    \n",
    "</div>\n"
   ]
  },
  {
   "cell_type": "code",
   "execution_count": 36,
   "id": "0e97f87f",
   "metadata": {},
   "outputs": [
    {
     "data": {
      "text/plain": [
       "False"
      ]
     },
     "execution_count": 36,
     "metadata": {},
     "output_type": "execute_result"
    }
   ],
   "source": [
    "df.index.empty"
   ]
  },
  {
   "cell_type": "code",
   "execution_count": 39,
   "id": "27e7a8b8",
   "metadata": {},
   "outputs": [
    {
     "data": {
      "text/plain": [
       "0"
      ]
     },
     "execution_count": 39,
     "metadata": {},
     "output_type": "execute_result"
    }
   ],
   "source": [
    "df.index.isnull().sum()"
   ]
  },
  {
   "cell_type": "markdown",
   "id": "444ca303",
   "metadata": {},
   "source": [
    "<div style=\"background-color: NavajoWhite; border-style: solid;font-family: Arial\">\n",
    "    \n",
    "## Seasonality\n",
    "    \n",
    "</div>\n"
   ]
  },
  {
   "cell_type": "markdown",
   "id": "f0531ccc",
   "metadata": {},
   "source": [
    "**Monthly Seasonality**"
   ]
  },
  {
   "cell_type": "code",
   "execution_count": 48,
   "id": "add9c50f",
   "metadata": {},
   "outputs": [
    {
     "data": {
      "text/plain": [
       "week\n",
       "2009-12-06    12\n",
       "2009-12-13    12\n",
       "2009-12-20    12\n",
       "2009-12-27    12\n",
       "2010-01-03     1\n",
       "Name: week, dtype: int64"
      ]
     },
     "execution_count": 48,
     "metadata": {},
     "output_type": "execute_result"
    }
   ],
   "source": [
    "#Getting the month of each date and verifying the correct form\n",
    "month_ = df.index.month\n",
    "month_ = pd.Series(month_, index=df.index)\n",
    "month_.head()"
   ]
  },
  {
   "cell_type": "code",
   "execution_count": 54,
   "id": "adad572d",
   "metadata": {},
   "outputs": [
    {
     "data": {
      "text/plain": [
       "Text(0.5, 0, 'Month')"
      ]
     },
     "execution_count": 54,
     "metadata": {},
     "output_type": "execute_result"
    },
    {
     "data": {
      "image/png": "[encoded data removed]",
      "text/plain": [
       "<Figure size 720x360 with 1 Axes>"
      ]
     },
     "metadata": {
      "needs_background": "light"
     },
     "output_type": "display_data"
    }
   ],
   "source": [
    "# Plot the average revenue\n",
    "df.groupby(month_)[[\"sales\"]].mean().plot(figsize=(10, 5))\n",
    "plt.title(\"Average Retail Sales Revenue Per Month\")\n",
    "plt.ylabel(\"Revenue\")\n",
    "plt.xlabel(\"Month\")"
   ]
  },
  {
   "cell_type": "markdown",
   "id": "1b58765e",
   "metadata": {},
   "source": [
    "Retail Sales increase gradually between July & November."
   ]
  },
  {
   "cell_type": "markdown",
   "id": "f6e8517f",
   "metadata": {},
   "source": [
    "**Quarterly Seasonality**"
   ]
  },
  {
   "cell_type": "code",
   "execution_count": 55,
   "id": "17e26c22",
   "metadata": {},
   "outputs": [
    {
     "data": {
      "text/plain": [
       "week\n",
       "2009-12-06    4\n",
       "2009-12-13    4\n",
       "2009-12-20    4\n",
       "2009-12-27    4\n",
       "2010-01-03    1\n",
       "Name: week, dtype: int64"
      ]
     },
     "execution_count": 55,
     "metadata": {},
     "output_type": "execute_result"
    }
   ],
   "source": [
    "#Getting the month of each date and verifying the correct form\n",
    "quarter_ = df.index.quarter\n",
    "quarter_ = pd.Series(quarter_, index=df.index)\n",
    "quarter_.head()"
   ]
  },
  {
   "cell_type": "code",
   "execution_count": 56,
   "id": "f8fd9c6a",
   "metadata": {},
   "outputs": [
    {
     "data": {
      "text/plain": [
       "Text(0.5, 0, 'Quarter')"
      ]
     },
     "execution_count": 56,
     "metadata": {},
     "output_type": "execute_result"
    },
    {
     "data": {
      "image/png": "[encoded data removed]",
      "text/plain": [
       "<Figure size 720x360 with 1 Axes>"
      ]
     },
     "metadata": {
      "needs_background": "light"
     },
     "output_type": "display_data"
    }
   ],
   "source": [
    "# Plot the average revenue\n",
    "df.groupby(quarter_)[[\"sales\"]].mean().plot(figsize=(10, 5))\n",
    "plt.title(\"Average Retail Sales Revenue Per Quarter\")\n",
    "plt.ylabel(\"Revenue\")\n",
    "plt.xlabel(\"Quarter\")"
   ]
  },
  {
   "cell_type": "markdown",
   "id": "c1b64802",
   "metadata": {},
   "source": [
    "Gradual sharp increase of average retail revenue per quarter increase. This signifies a quarterly seasonality."
   ]
  },
  {
   "cell_type": "markdown",
   "id": "3af41333",
   "metadata": {},
   "source": [
    "**Week of Month**"
   ]
  },
  {
   "cell_type": "code",
   "execution_count": 57,
   "id": "a94def8c",
   "metadata": {
    "scrolled": true
   },
   "outputs": [
    {
     "data": {
      "text/plain": [
       "week\n",
       "2009-12-06    1\n",
       "2009-12-13    2\n",
       "2009-12-20    3\n",
       "2009-12-27    4\n",
       "2010-01-03    1\n",
       "Name: week, dtype: int64"
      ]
     },
     "execution_count": 57,
     "metadata": {},
     "output_type": "execute_result"
    }
   ],
   "source": [
    "weekofmonth_ = (df.index.day-1)//7+1\n",
    "weekofmonth_ = pd.Series(weekofmonth_, index=df.index)\n",
    "weekofmonth_.head()"
   ]
  },
  {
   "cell_type": "code",
   "execution_count": 58,
   "id": "43a201f8",
   "metadata": {},
   "outputs": [
    {
     "data": {
      "text/plain": [
       "Text(0.5, 0, 'Week of Month')"
      ]
     },
     "execution_count": 58,
     "metadata": {},
     "output_type": "execute_result"
    },
    {
     "data": {
      "image/png": "[encoded data removed]",
      "text/plain": [
       "<Figure size 720x360 with 1 Axes>"
      ]
     },
     "metadata": {
      "needs_background": "light"
     },
     "output_type": "display_data"
    }
   ],
   "source": [
    "# Plot the average revenue\n",
    "df.groupby(weekofmonth_)[[\"sales\"]].mean().plot(figsize=(10, 5))\n",
    "plt.title(\"Average Retail Sales Revenue Per Week of Month\")\n",
    "plt.ylabel(\"Revenue\")\n",
    "plt.xlabel(\"Week of Month\")"
   ]
  },
  {
   "cell_type": "markdown",
   "id": "a5cc6e4c",
   "metadata": {},
   "source": [
    "A peak towards the third and fifith week of the month."
   ]
  },
  {
   "cell_type": "markdown",
   "id": "d99ec9e2",
   "metadata": {},
   "source": [
    "---"
   ]
  },
  {
   "cell_type": "markdown",
   "id": "e81565cb",
   "metadata": {},
   "source": [
    "<div style=\"color:black; background-color: LightSalmon; border-style: solid;font-family: Arial; text-align: center\">\n",
    "    \n",
    "\n",
    "# Feature engineering\n",
    "</div>"
   ]
  },
  {
   "cell_type": "markdown",
   "id": "81d928d4",
   "metadata": {},
   "source": [
    "<div style=\"background-color: NavajoWhite; border-style: solid;font-family: Arial\">\n",
    "    \n",
    "## DateTime Features\n",
    "    \n",
    "</div>\n",
    "\n",
    "- Quarter\n",
    "- Month\n",
    "- Week of Month"
   ]
  },
  {
   "cell_type": "code",
   "execution_count": 61,
   "id": "3dabede1",
   "metadata": {},
   "outputs": [],
   "source": [
    "df[\"quarter\"] = df.index.quarter\n",
    "df[\"month\"] = df.index.month\n",
    "df[\"week_of_month\"] = (df.index.day-1)//7+1"
   ]
  },
  {
   "cell_type": "code",
   "execution_count": 62,
   "id": "060c0d1e",
   "metadata": {
    "scrolled": false
   },
   "outputs": [
    {
     "data": {
      "text/html": [
       "<div>\n",
       "<style scoped>\n",
       "    .dataframe tbody tr th:only-of-type {\n",
       "        vertical-align: middle;\n",
       "    }\n",
       "\n",
       "    .dataframe tbody tr th {\n",
       "        vertical-align: top;\n",
       "    }\n",
       "\n",
       "    .dataframe thead th {\n",
       "        text-align: right;\n",
       "    }\n",
       "</style>\n",
       "<table border=\"1\" class=\"dataframe\">\n",
       "  <thead>\n",
       "    <tr style=\"text-align: right;\">\n",
       "      <th></th>\n",
       "      <th>sales</th>\n",
       "      <th>month</th>\n",
       "      <th>week_of_month</th>\n",
       "      <th>quarter</th>\n",
       "    </tr>\n",
       "    <tr>\n",
       "      <th>week</th>\n",
       "      <th></th>\n",
       "      <th></th>\n",
       "      <th></th>\n",
       "      <th></th>\n",
       "    </tr>\n",
       "  </thead>\n",
       "  <tbody>\n",
       "    <tr>\n",
       "      <th>2009-12-06</th>\n",
       "      <td>3319.16</td>\n",
       "      <td>12</td>\n",
       "      <td>1</td>\n",
       "      <td>4</td>\n",
       "    </tr>\n",
       "    <tr>\n",
       "      <th>2009-12-13</th>\n",
       "      <td>2088.72</td>\n",
       "      <td>12</td>\n",
       "      <td>2</td>\n",
       "      <td>4</td>\n",
       "    </tr>\n",
       "    <tr>\n",
       "      <th>2009-12-20</th>\n",
       "      <td>975.06</td>\n",
       "      <td>12</td>\n",
       "      <td>3</td>\n",
       "      <td>4</td>\n",
       "    </tr>\n",
       "  </tbody>\n",
       "</table>\n",
       "</div>"
      ],
      "text/plain": [
       "              sales  month  week_of_month  quarter\n",
       "week                                              \n",
       "2009-12-06  3319.16     12              1        4\n",
       "2009-12-13  2088.72     12              2        4\n",
       "2009-12-20   975.06     12              3        4"
      ]
     },
     "execution_count": 62,
     "metadata": {},
     "output_type": "execute_result"
    }
   ],
   "source": [
    "df.head(3)"
   ]
  },
  {
   "cell_type": "markdown",
   "id": "c419505e",
   "metadata": {},
   "source": [
    "<div style=\"background-color: NavajoWhite; border-style: solid;font-family: Arial\">\n",
    "    \n",
    "## Lag Features\n",
    "    \n",
    "</div>"
   ]
  },
  {
   "cell_type": "markdown",
   "id": "2e48a4e9",
   "metadata": {},
   "source": [
    "**Stationarity**\n",
    "\n",
    "Before procedding in plotting the ACF and PACF which assume stationarity of the underlying time series, we shall run the stationarity test.\n",
    "\n",
    "Staionarity can be checked through an Augmented Dickey-Fuller (ADF) unit root test:\n",
    "- If p-value > 0.05: Fail to reject the null hypothesis (H0), the data has a unit root and is non-stationary.\n",
    "- If p-value <= 0.05: Reject the null hypothesis (H0), the data does not have a unit root and is stationary."
   ]
  },
  {
   "cell_type": "code",
   "execution_count": 72,
   "id": "182ec325",
   "metadata": {},
   "outputs": [
    {
     "name": "stdout",
     "output_type": "stream",
     "text": [
      " p_value = 0.0000074\n"
     ]
    }
   ],
   "source": [
    "p_value_ADF = adfuller(df.sales.values)[1]\n",
    "print(\" p_value = {:.7f}\".format(p_value_ADF))"
   ]
  },
  {
   "cell_type": "markdown",
   "id": "46e31b07",
   "metadata": {},
   "source": [
    "The **P_value** obtained is <= 0.05. Therefore, we reject the null hypothesis and the data does not have a unit root and thus is stationary."
   ]
  },
  {
   "cell_type": "markdown",
   "id": "ae12e293",
   "metadata": {},
   "source": [
    "**ACF**"
   ]
  },
  {
   "cell_type": "markdown",
   "id": "57ec0020",
   "metadata": {},
   "source": [
    "The Autocorrelation Function **(ACF)** is the correlation between the current time series and the lagged values of the same time series. For example, ACF at lag 1 is the correlation between the current values at time t and the lagged values at t-1.\n",
    "At lag 0, the ACF value is 1 because it is the correlation of the current values with themselves."
   ]
  },
  {
   "cell_type": "code",
   "execution_count": 88,
   "id": "594fb257",
   "metadata": {},
   "outputs": [
    {
     "name": "stdout",
     "output_type": "stream",
     "text": [
      "Figure(720x360)\n"
     ]
    },
    {
     "data": {
      "image/png": "[encoded data removed]",
      "text/plain": [
       "<Figure size 720x360 with 1 Axes>"
      ]
     },
     "metadata": {
      "needs_background": "light"
     },
     "output_type": "display_data"
    }
   ],
   "source": [
    "f, ax = plt.subplots(nrows=1, ncols=1, figsize=(10, 5))\n",
    "print(plot_acf(df.sales.values, alpha=.05, ax=ax))"
   ]
  },
  {
   "cell_type": "markdown",
   "id": "ba2c58b5",
   "metadata": {},
   "source": [
    "**PACF**"
   ]
  },
  {
   "cell_type": "markdown",
   "id": "3af454ba",
   "metadata": {},
   "source": [
    "The Partial Autocorrelation Function **(PACF)** is used to extract the correlation between the current value and eachsuccessive lagged term, considering that we take into account all the values between t and t-k. \n",
    "\n",
    "The partial autocorrelation at lag k is the autocorrelation between  X_t and  X_(t−k) that is not accounted for by lags 1 through  k−1.\n",
    "\n",
    "The results can help in determining if the data can be modeled through an AR process."
   ]
  },
  {
   "cell_type": "code",
   "execution_count": 92,
   "id": "803752dd",
   "metadata": {
    "scrolled": true
   },
   "outputs": [
    {
     "name": "stdout",
     "output_type": "stream",
     "text": [
      "Figure(720x360)\n"
     ]
    },
    {
     "data": {
      "image/png": "[encoded data removed]",
      "text/plain": [
       "<Figure size 720x360 with 1 Axes>"
      ]
     },
     "metadata": {
      "needs_background": "light"
     },
     "output_type": "display_data"
    }
   ],
   "source": [
    "f, ax = plt.subplots(nrows=1, ncols=1, figsize=(10, 5))\n",
    "print(plot_pacf(df.sales.values, alpha=.05, ax=ax,  method='ols'))"
   ]
  },
  {
   "cell_type": "markdown",
   "id": "e266ef03",
   "metadata": {},
   "source": [
    "We can see some slight correlation with lag 2. I will proceed with including two lags in the model as if we are about to model an AR(2) process in the form of :\n",
    "\n",
    "$$ Y_{t} = α1Y_{t-1} + α2Y_{t−2}  $$\n"
   ]
  },
  {
   "cell_type": "code",
   "execution_count": 110,
   "id": "b066e7fc",
   "metadata": {},
   "outputs": [],
   "source": [
    "#Creating a function to create lag features\n",
    "def lagged_values(df: pd.DataFrame, max_lags=2, feature=\"sales\"):\n",
    "    \"\"\"This function is used to created a lagged feature of a target feature up to the maximum number of lags.\n",
    "    \n",
    "    Params:\n",
    "    ------\n",
    "        max_lags (int): The maximum number of lags to include for the target feature. \n",
    "        feature (str): The name of the target feature in the dataframe.\n",
    "        df (DataFrame): The dataframe that contains the data for the target feature.\n",
    "        \n",
    "    returns:\n",
    "    --------\n",
    "        A new dataframe with the lagged valued of the target variable.\n",
    "    \n",
    "    \"\"\"\n",
    "    \n",
    "    df = df.copy()\n",
    "    for r in range(1, max_lags+1):\n",
    "        lagged_column_name = feature + \"_\" + \"lag_\" + str(r)\n",
    "        df[lagged_column_name] = df[feature].shift(periods=r, axis=0)\n",
    "    \n",
    "    #dropping Nan \n",
    "    df = df.dropna()\n",
    "    return df "
   ]
  },
  {
   "cell_type": "code",
   "execution_count": 112,
   "id": "c32414b4",
   "metadata": {
    "scrolled": false
   },
   "outputs": [
    {
     "data": {
      "text/html": [
       "<div>\n",
       "<style scoped>\n",
       "    .dataframe tbody tr th:only-of-type {\n",
       "        vertical-align: middle;\n",
       "    }\n",
       "\n",
       "    .dataframe tbody tr th {\n",
       "        vertical-align: top;\n",
       "    }\n",
       "\n",
       "    .dataframe thead th {\n",
       "        text-align: right;\n",
       "    }\n",
       "</style>\n",
       "<table border=\"1\" class=\"dataframe\">\n",
       "  <thead>\n",
       "    <tr style=\"text-align: right;\">\n",
       "      <th></th>\n",
       "      <th>sales</th>\n",
       "      <th>month</th>\n",
       "      <th>week_of_month</th>\n",
       "      <th>quarter</th>\n",
       "      <th>sales_lag_1</th>\n",
       "      <th>sales_lag_2</th>\n",
       "    </tr>\n",
       "    <tr>\n",
       "      <th>week</th>\n",
       "      <th></th>\n",
       "      <th></th>\n",
       "      <th></th>\n",
       "      <th></th>\n",
       "      <th></th>\n",
       "      <th></th>\n",
       "    </tr>\n",
       "  </thead>\n",
       "  <tbody>\n",
       "    <tr>\n",
       "      <th>2009-12-20</th>\n",
       "      <td>975.06</td>\n",
       "      <td>12</td>\n",
       "      <td>3</td>\n",
       "      <td>4</td>\n",
       "      <td>2088.72</td>\n",
       "      <td>3319.16</td>\n",
       "    </tr>\n",
       "    <tr>\n",
       "      <th>2009-12-27</th>\n",
       "      <td>138.75</td>\n",
       "      <td>12</td>\n",
       "      <td>4</td>\n",
       "      <td>4</td>\n",
       "      <td>975.06</td>\n",
       "      <td>2088.72</td>\n",
       "    </tr>\n",
       "    <tr>\n",
       "      <th>2010-01-03</th>\n",
       "      <td>0.00</td>\n",
       "      <td>1</td>\n",
       "      <td>1</td>\n",
       "      <td>1</td>\n",
       "      <td>138.75</td>\n",
       "      <td>975.06</td>\n",
       "    </tr>\n",
       "  </tbody>\n",
       "</table>\n",
       "</div>"
      ],
      "text/plain": [
       "             sales  month  week_of_month  quarter  sales_lag_1  sales_lag_2\n",
       "week                                                                       \n",
       "2009-12-20  975.06     12              3        4      2088.72      3319.16\n",
       "2009-12-27  138.75     12              4        4       975.06      2088.72\n",
       "2010-01-03    0.00      1              1        1       138.75       975.06"
      ]
     },
     "execution_count": 112,
     "metadata": {},
     "output_type": "execute_result"
    }
   ],
   "source": [
    "df = lagged_values(df=df)\n",
    "df.head(3)"
   ]
  },
  {
   "cell_type": "markdown",
   "id": "cc3d7114",
   "metadata": {},
   "source": [
    "<div style=\"background-color: NavajoWhite; border-style: solid;font-family: Arial\">\n",
    "    \n",
    "## Cyclical features\n",
    "    \n",
    "</div>"
   ]
  },
  {
   "cell_type": "markdown",
   "id": "dc67eeae",
   "metadata": {},
   "source": [
    "Captured through sine and consine, as this will cause the values of the features that are far apart to come closer. For example, December (12) is closer to January (1) than July (7)."
   ]
  },
  {
   "cell_type": "code",
   "execution_count": 119,
   "id": "dc046172",
   "metadata": {},
   "outputs": [
    {
     "data": {
      "text/html": [
       "<div>\n",
       "<style scoped>\n",
       "    .dataframe tbody tr th:only-of-type {\n",
       "        vertical-align: middle;\n",
       "    }\n",
       "\n",
       "    .dataframe tbody tr th {\n",
       "        vertical-align: top;\n",
       "    }\n",
       "\n",
       "    .dataframe thead th {\n",
       "        text-align: right;\n",
       "    }\n",
       "</style>\n",
       "<table border=\"1\" class=\"dataframe\">\n",
       "  <thead>\n",
       "    <tr style=\"text-align: right;\">\n",
       "      <th></th>\n",
       "      <th>sales</th>\n",
       "      <th>sales_lag_1</th>\n",
       "      <th>sales_lag_2</th>\n",
       "      <th>month_sin</th>\n",
       "      <th>month_cos</th>\n",
       "      <th>week_of_month_sin</th>\n",
       "      <th>week_of_month_cos</th>\n",
       "      <th>quarter_sin</th>\n",
       "      <th>quarter_cos</th>\n",
       "    </tr>\n",
       "    <tr>\n",
       "      <th>week</th>\n",
       "      <th></th>\n",
       "      <th></th>\n",
       "      <th></th>\n",
       "      <th></th>\n",
       "      <th></th>\n",
       "      <th></th>\n",
       "      <th></th>\n",
       "      <th></th>\n",
       "      <th></th>\n",
       "    </tr>\n",
       "  </thead>\n",
       "  <tbody>\n",
       "    <tr>\n",
       "      <th>2009-12-20</th>\n",
       "      <td>975.06</td>\n",
       "      <td>2088.72</td>\n",
       "      <td>3319.16</td>\n",
       "      <td>-2.449294e-16</td>\n",
       "      <td>1.000000</td>\n",
       "      <td>-0.587785</td>\n",
       "      <td>-0.809017</td>\n",
       "      <td>-2.449294e-16</td>\n",
       "      <td>1.000000e+00</td>\n",
       "    </tr>\n",
       "    <tr>\n",
       "      <th>2009-12-27</th>\n",
       "      <td>138.75</td>\n",
       "      <td>975.06</td>\n",
       "      <td>2088.72</td>\n",
       "      <td>-2.449294e-16</td>\n",
       "      <td>1.000000</td>\n",
       "      <td>-0.951057</td>\n",
       "      <td>0.309017</td>\n",
       "      <td>-2.449294e-16</td>\n",
       "      <td>1.000000e+00</td>\n",
       "    </tr>\n",
       "    <tr>\n",
       "      <th>2010-01-03</th>\n",
       "      <td>0.00</td>\n",
       "      <td>138.75</td>\n",
       "      <td>975.06</td>\n",
       "      <td>5.000000e-01</td>\n",
       "      <td>0.866025</td>\n",
       "      <td>0.951057</td>\n",
       "      <td>0.309017</td>\n",
       "      <td>1.000000e+00</td>\n",
       "      <td>6.123234e-17</td>\n",
       "    </tr>\n",
       "    <tr>\n",
       "      <th>2010-01-10</th>\n",
       "      <td>5021.12</td>\n",
       "      <td>0.00</td>\n",
       "      <td>138.75</td>\n",
       "      <td>5.000000e-01</td>\n",
       "      <td>0.866025</td>\n",
       "      <td>0.587785</td>\n",
       "      <td>-0.809017</td>\n",
       "      <td>1.000000e+00</td>\n",
       "      <td>6.123234e-17</td>\n",
       "    </tr>\n",
       "    <tr>\n",
       "      <th>2010-01-17</th>\n",
       "      <td>1208.80</td>\n",
       "      <td>5021.12</td>\n",
       "      <td>0.00</td>\n",
       "      <td>5.000000e-01</td>\n",
       "      <td>0.866025</td>\n",
       "      <td>-0.587785</td>\n",
       "      <td>-0.809017</td>\n",
       "      <td>1.000000e+00</td>\n",
       "      <td>6.123234e-17</td>\n",
       "    </tr>\n",
       "  </tbody>\n",
       "</table>\n",
       "</div>"
      ],
      "text/plain": [
       "              sales  sales_lag_1  sales_lag_2     month_sin  month_cos  \\\n",
       "week                                                                     \n",
       "2009-12-20   975.06      2088.72      3319.16 -2.449294e-16   1.000000   \n",
       "2009-12-27   138.75       975.06      2088.72 -2.449294e-16   1.000000   \n",
       "2010-01-03     0.00       138.75       975.06  5.000000e-01   0.866025   \n",
       "2010-01-10  5021.12         0.00       138.75  5.000000e-01   0.866025   \n",
       "2010-01-17  1208.80      5021.12         0.00  5.000000e-01   0.866025   \n",
       "\n",
       "            week_of_month_sin  week_of_month_cos   quarter_sin   quarter_cos  \n",
       "week                                                                          \n",
       "2009-12-20          -0.587785          -0.809017 -2.449294e-16  1.000000e+00  \n",
       "2009-12-27          -0.951057           0.309017 -2.449294e-16  1.000000e+00  \n",
       "2010-01-03           0.951057           0.309017  1.000000e+00  6.123234e-17  \n",
       "2010-01-10           0.587785          -0.809017  1.000000e+00  6.123234e-17  \n",
       "2010-01-17          -0.587785          -0.809017  1.000000e+00  6.123234e-17  "
      ]
     },
     "execution_count": 119,
     "metadata": {},
     "output_type": "execute_result"
    }
   ],
   "source": [
    "cyclical = CyclicalFeatures(\n",
    "    variables=[\"month\", \"week_of_month\", \"quarter\"],  # The features we want to transform.\n",
    "    drop_original=True,  # Whether to drop the original features.\n",
    ")\n",
    "\n",
    "df = cyclical.fit_transform(df)\n",
    "\n",
    "df.head(5)"
   ]
  },
  {
   "cell_type": "markdown",
   "id": "112eca5e",
   "metadata": {},
   "source": [
    "<div style=\"color:black; background-color: LightSalmon; border-style: solid;font-family: Arial; text-align: center\">\n",
    "    \n",
    "\n",
    "# Time Series Data Splitting\n",
    "</div>"
   ]
  },
  {
   "cell_type": "code",
   "execution_count": 118,
   "id": "c549743d",
   "metadata": {},
   "outputs": [
    {
     "name": "stdout",
     "output_type": "stream",
     "text": [
      "Predicting Weekly Sales where the time period is between\n"
     ]
    },
    {
     "data": {
      "text/plain": [
       "(Timestamp('2011-12-11 00:00:00'), Timestamp('2009-12-20 00:00:00'))"
      ]
     },
     "execution_count": 118,
     "metadata": {},
     "output_type": "execute_result"
    }
   ],
   "source": [
    "print(\"Predicting Weekly Sales where the time period is between\")\n",
    "df.index.max(), df.index.min()"
   ]
  },
  {
   "cell_type": "markdown",
   "id": "20ae8079",
   "metadata": {},
   "source": [
    "We shall leave the most recent data for test, and the remaining data for training.\n",
    "\n",
    "**Test data:** data starting November 2011.\n",
    "\n",
    "**Traing data:** all remaining data up until November 2011."
   ]
  },
  {
   "cell_type": "code",
   "execution_count": 120,
   "id": "97c73f08",
   "metadata": {},
   "outputs": [],
   "source": [
    "reference_date = \"2011-11-01\"\n",
    "train_df = df[df.index < reference_date]\n",
    "test_df = df[df.index >= reference_date]"
   ]
  },
  {
   "cell_type": "code",
   "execution_count": 121,
   "id": "03979e32",
   "metadata": {},
   "outputs": [
    {
     "name": "stdout",
     "output_type": "stream",
     "text": [
      "The number of weeks for the train dataset is: 98\n",
      "*******************************************************************\n",
      "The number of weeks for the test dataset is: 6\n"
     ]
    }
   ],
   "source": [
    "print(f\"The number of weeks for the train dataset is: {train_df.shape[0]}\")\n",
    "print(\"*******************************************************************\")\n",
    "print(f\"The number of weeks for the test dataset is: {test_df.shape[0]}\")"
   ]
  },
  {
   "cell_type": "markdown",
   "id": "9182bdbb",
   "metadata": {},
   "source": [
    "<div style=\"color:black; background-color: LightSalmon; border-style: solid;font-family: Arial; text-align: center\">\n",
    "    \n",
    "\n",
    "# Forecasting\n",
    "</div>"
   ]
  },
  {
   "cell_type": "markdown",
   "id": "c12d1cc1",
   "metadata": {},
   "source": [
    "<div style=\"background-color: Seashell; border-style: solid;font-family: Arial\">\n",
    "    \n",
    "**The popular metrics used in evaulating time series forecast are**\n",
    "--------------------------------------------------------------\n",
    "--------------------------------------------------------------\n",
    "\n",
    "- Mean Absolute Error **(MAE)**\n",
    "    <div style=\"text-align: center\">\n",
    "    $\\sum_{i=1}^{N}|\\hat{y_i}-y_i|$\n",
    "    </div>                        \n",
    "    \n",
    "- Mean Squared Error **(MSE)**\n",
    "    <div style=\"text-align: center\">\n",
    "    $\\sum_{i=1}^{N}(\\hat{y_i}-y_i)^2$\n",
    "    </div>\n",
    "    \n",
    "- Root Mean Square Error **(RMSE)**\n",
    "     <div style=\"text-align: center\">\n",
    "    $\\sqrt{\\sum_{i=1}^{N}(\\hat{y_i}-y_i)^2}$\n",
    "    </div>\n",
    "</div>"
   ]
  },
  {
   "cell_type": "markdown",
   "id": "820803d5",
   "metadata": {},
   "source": [
    "<div style=\"background-color: NavajoWhite; border-style: solid;font-family: Arial\">\n",
    "    \n",
    "## Naive forecast\n",
    "    \n",
    "</div>\n",
    "\n",
    "\n",
    "Predict sales in the next week (t) as the value of sales in the previous week (t-1)."
   ]
  },
  {
   "cell_type": "markdown",
   "id": "4058260e",
   "metadata": {},
   "source": [
    "<div style=\"background-color: NavajoWhite; border-style: solid;font-family: Arial\">\n",
    "    \n",
    "## LightGBM\n",
    "    \n",
    "</div>\n",
    "\n",
    "Tuning LightGBM model through using Optuna"
   ]
  },
  {
   "cell_type": "markdown",
   "id": "7523b71d",
   "metadata": {},
   "source": [
    "**LightGBM**"
   ]
  },
  {
   "cell_type": "markdown",
   "id": "605e21dd",
   "metadata": {},
   "source": [
    "LightGBM functions well in predicting time series tabular data and in recent Kaggle competitions, it outperforms XGBoost and other gradient boosting algorithms. \n",
    "\n",
    "*The advantages of using LightGBM are the following:*\n",
    "- [LightGBM can use categorical features directly (without one-hot encoding). A tree built on one-hot features tends to be unbalanced and needs to grow very deep to achieve good accuracy.](https://lightgbm.readthedocs.io/en/latest/Quick-Start.html)\n",
    "- [LightGBM uses histogram-based algorithms, which bucket continuous feature (attribute) values into discrete bins. This speeds up training and reduces memory usage.](https://lightgbm.readthedocs.io/en/latest/Features.html#references)\n",
    "- [LightGBM grows trees leaf-wise (best-first)[7]. It will choose the leaf with max delta loss to grow. Holding #leaf fixed, leaf-wise algorithms tend to achieve lower loss than level-wise algorithms](https://lightgbm.readthedocs.io/en/latest/Features.html#references)\n",
    "- [It supports the following models: regression, binary classification, multi classification, LambdaRank](https://lightgbm.readthedocs.io/en/latest/pythonapi/lightgbm.LGBMRegressor.html#lightgbm.LGBMRegressor)"
   ]
  },
  {
   "cell_type": "code",
   "execution_count": 99,
   "id": "51d3607e",
   "metadata": {},
   "outputs": [],
   "source": [
    "#Initializing with some random values to check the performance before Optuna hyper-tuning of the model.\n",
    "param = {\n",
    "    \"boosting_type\": 'gbdt',\n",
    "    \"num_leaves\": 100,\n",
    "    \"max_depth\": 50,\n",
    "    \"learning_rate\": 0.1,\n",
    "    \"n_estimators\": 100\n",
    "}"
   ]
  },
  {
   "cell_type": "code",
   "execution_count": 100,
   "id": "034f0ff6",
   "metadata": {},
   "outputs": [],
   "source": [
    "light_gbm_regress = lgb.LGBMRegressor(**param)"
   ]
  }
 ],
 "metadata": {
  "kernelspec": {
   "display_name": "Python 3 (ipykernel)",
   "language": "python",
   "name": "python3"
  },
  "language_info": {
   "codemirror_mode": {
    "name": "ipython",
    "version": 3
   },
   "file_extension": ".py",
   "mimetype": "text/x-python",
   "name": "python",
   "nbconvert_exporter": "python",
   "pygments_lexer": "ipython3",
   "version": "3.9.12"
  },
  "toc": {
   "base_numbering": 1,
   "nav_menu": {},
   "number_sections": true,
   "sideBar": true,
   "skip_h1_title": false,
   "title_cell": "Table of Contents",
   "title_sidebar": "Contents",
   "toc_cell": false,
   "toc_position": {},
   "toc_section_display": true,
   "toc_window_display": true
  }
 },
 "nbformat": 4,
 "nbformat_minor": 5
}
